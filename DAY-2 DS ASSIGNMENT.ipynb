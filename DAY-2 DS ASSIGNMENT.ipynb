{
 "cells": [
  {
   "cell_type": "markdown",
   "metadata": {},
   "source": [
    "# QUESTION 1"
   ]
  },
  {
   "cell_type": "raw",
   "metadata": {},
   "source": [
    "Create an empty list. Accept 10 numbers from the user and append to it the list if it is an even number."
   ]
  },
  {
   "cell_type": "code",
   "execution_count": 4,
   "metadata": {},
   "outputs": [
    {
     "name": "stdout",
     "output_type": "stream",
     "text": [
      " 1\n",
      " 2\n",
      " 3\n",
      " 4\n",
      " 5\n",
      " 6\n",
      " 7\n",
      " 8\n",
      " 9\n",
      " 1\n",
      "[2, 4, 6, 8]\n"
     ]
    }
   ],
   "source": [
    "li = []\n",
    "i=0\n",
    "while i < 10:\n",
    "    a = int(input(\" \"))\n",
    "    if(a%2==0):\n",
    "        li.append(a)\n",
    "    i=i+1\n",
    "    \n",
    "print(li)"
   ]
  },
  {
   "cell_type": "markdown",
   "metadata": {},
   "source": [
    "# QUESTION 2"
   ]
  },
  {
   "cell_type": "raw",
   "metadata": {},
   "source": [
    "Create a notebook on LIST COMPREHENSION. This exercise is to put you in a Self learning mode"
   ]
  },
  {
   "cell_type": "code",
   "execution_count": 6,
   "metadata": {},
   "outputs": [
    {
     "name": "stdout",
     "output_type": "stream",
     "text": [
      "[2, 2, 6, 8, 8]\n"
     ]
    }
   ],
   "source": [
    "li1=[1,2,2,3,6,5,9,8,8,] #without using list comprehension\n",
    "li2=[]\n",
    "for i in li1:\n",
    "    if i%2==0:\n",
    "        li2.append(i)\n",
    "        \n",
    "print(li2)"
   ]
  },
  {
   "cell_type": "code",
   "execution_count": 7,
   "metadata": {},
   "outputs": [],
   "source": [
    "li3 =[i for i in li1 if i%2==0] #using list comprehension"
   ]
  },
  {
   "cell_type": "code",
   "execution_count": 8,
   "metadata": {},
   "outputs": [
    {
     "name": "stdout",
     "output_type": "stream",
     "text": [
      "[2, 2, 6, 8, 8]\n"
     ]
    }
   ],
   "source": [
    "print(li3)"
   ]
  },
  {
   "cell_type": "markdown",
   "metadata": {},
   "source": [
    "# QUESTION 3"
   ]
  },
  {
   "cell_type": "raw",
   "metadata": {},
   "source": [
    "You have seen in the videos how powerful dictionary data structure is. In this assignment, given a number n, you have to write a program that generates a dictionary d which contains (i, i*i), where i is from 1 to n (both included). Then you have to just print this dictionary d."
   ]
  },
  {
   "cell_type": "code",
   "execution_count": 10,
   "metadata": {},
   "outputs": [
    {
     "name": "stdout",
     "output_type": "stream",
     "text": [
      "3\n",
      "{1: 1, 2: 4, 3: 9}\n"
     ]
    }
   ],
   "source": [
    "a = int(input())\n",
    "d = {}\n",
    "for i in range(1,a+1):\n",
    "    d[i]=i*i\n",
    "    \n",
    "print(d)"
   ]
  },
  {
   "cell_type": "markdown",
   "metadata": {},
   "source": [
    "# QUESTION 4"
   ]
  },
  {
   "cell_type": "raw",
   "metadata": {},
   "source": [
    "Write a program to compute the distance between the current position after a sequence of movement and original point. If the distance is a float, then just print the nearest integer (use round() function for that and then convert it into an integer)."
   ]
  },
  {
   "cell_type": "code",
   "execution_count": 11,
   "metadata": {},
   "outputs": [
    {
     "name": "stdout",
     "output_type": "stream",
     "text": [
      "UP/DOWN/LEFT/RIGHT and give space Enter number: UP 5\n",
      "UP/DOWN/LEFT/RIGHT and give space Enter number: DOWN 3\n",
      "UP/DOWN/LEFT/RIGHT and give space Enter number: LEFT 3\n",
      "UP/DOWN/LEFT/RIGHT and give space Enter number: RIGHT 2\n",
      "UP/DOWN/LEFT/RIGHT and give space Enter number: 2\n",
      "UP/DOWN/LEFT/RIGHT and give space Enter number: 2\n",
      "UP/DOWN/LEFT/RIGHT and give space Enter number: 0\n",
      "UP/DOWN/LEFT/RIGHT and give space Enter number: \n",
      "2\n"
     ]
    }
   ],
   "source": [
    "import math\n",
    "\n",
    "x = 0.0\n",
    "y = 0.0\n",
    "\n",
    "while True:\n",
    "    l = input(\"UP/DOWN/LEFT/RIGHT and give space Enter number: \")\n",
    "    if l==\"\":\n",
    "        break\n",
    "    else:\n",
    "        w = l.split(\" \")\n",
    "        if w[0] == \"UP\":\n",
    "            y = y + int(w[1])\n",
    "        elif w[0] == \"DOWN\":\n",
    "            y = y - int(w[1])\n",
    "        elif w[0] == \"LEFT\":\n",
    "            x = x + int(w[1])\n",
    "        elif w[0] == \"RIGHT\":\n",
    "            x = x - int(w[1])\n",
    "            \n",
    "z=math.sqrt((x*x)+(y*y))  \n",
    "print(round(z))"
   ]
  },
  {
   "cell_type": "code",
   "execution_count": null,
   "metadata": {},
   "outputs": [],
   "source": []
  }
 ],
 "metadata": {
  "kernelspec": {
   "display_name": "Python 3",
   "language": "python",
   "name": "python3"
  },
  "language_info": {
   "codemirror_mode": {
    "name": "ipython",
    "version": 3
   },
   "file_extension": ".py",
   "mimetype": "text/x-python",
   "name": "python",
   "nbconvert_exporter": "python",
   "pygments_lexer": "ipython3",
   "version": "3.7.6"
  }
 },
 "nbformat": 4,
 "nbformat_minor": 4
}
